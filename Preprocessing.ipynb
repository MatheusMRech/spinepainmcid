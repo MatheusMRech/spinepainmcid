{
  "cells": [
    {
      "cell_type": "markdown",
      "metadata": {
        "id": "view-in-github",
        "colab_type": "text"
      },
      "source": [
        "<a href=\"https://colab.research.google.com/github/MatheusMRech/spinepainmcid/blob/main/Preprocessing.ipynb\" target=\"_parent\"><img src=\"https://colab.research.google.com/assets/colab-badge.svg\" alt=\"Open In Colab\"/></a>"
      ]
    },
    {
      "cell_type": "code",
      "execution_count": null,
      "id": "qBzW_Vnz4Die",
      "metadata": {
        "id": "qBzW_Vnz4Die"
      },
      "outputs": [],
      "source": [
        "import numpy as np\n",
        "import pandas as pd\n",
        "from pandas.api.types import CategoricalDtype\n",
        "\n",
        "from sklearn.preprocessing import OneHotEncoder\n",
        "from sklearn.preprocessing import LabelEncoder\n",
        "from sklearn.preprocessing import RobustScaler\n",
        "from sklearn.preprocessing import MinMaxScaler\n",
        "from sklearn.impute import KNNImputer\n",
        "\n",
        "from matplotlib import pyplot as plt\n",
        "\n",
        "pd.set_option('display.max_rows', None)"
      ]
    },
    {
      "cell_type": "code",
      "execution_count": null,
      "id": "nK9_9v8P4Dik",
      "metadata": {
        "id": "nK9_9v8P4Dik"
      },
      "outputs": [],
      "source": [
        "#Open csv file.\n",
        "\n",
        "data = pd.read_csv(\"./DMVO-mRS/DMVO-mRS.csv\", index_col=0, encoding = 'latin1', low_memory = False)\n",
        "data.head()"
      ]
    },
    {
      "cell_type": "code",
      "execution_count": null,
      "id": "io2d2fwK4Dim",
      "metadata": {
        "id": "io2d2fwK4Dim"
      },
      "outputs": [],
      "source": [
        "#See all columns.\n",
        "print(list(data.columns))"
      ]
    },
    {
      "cell_type": "code",
      "execution_count": null,
      "id": "0jxWMwZSD006",
      "metadata": {
        "id": "0jxWMwZSD006"
      },
      "outputs": [],
      "source": [
        "#Check data shape.\n",
        "\n",
        "data.shape"
      ]
    },
    {
      "cell_type": "code",
      "execution_count": null,
      "id": "3Pv9RhHREXxH",
      "metadata": {
        "id": "3Pv9RhHREXxH"
      },
      "outputs": [],
      "source": [
        "#Define variables of interest (predictor variables, inclusion/exclusion criteria, outcomes of interest).\n",
        "\n",
        "variables = ['Age', 'Sex', 'Race', 'Smoking', 'Alcohol', 'Hypertension ', 'Dyslipidemia', 'Diabetes', 'Coronary Artery Disease', 'A-Fib', 'History of Malignancy', 'Antiplatelet or Anticoagulation', 'Prior stroke/TIA ', 'HIV', 'HCV', 'Chronic Kidney disease', 'Sleep apnea', 'PVD', 'DVT/PE', 'Age related Admission SI', 'Admission SI ', 'Admission BMI', 'Admission SBP', 'Admission DBP', 'Admission HR', 'Admission RR', 'Admission SpO2', 'Admission Sodium', 'Admission Potassium', 'Admission Glucose ', 'Admission Calcium', 'Admission BUN', 'Admission Creatinine', 'Admission BUN:Creatinine Ratio', 'Admission Hematocrit ', 'Admission Hemoglobin', 'Admission WBC Count', 'Admission Platelet Count', 'Admission Platelet:WBC Ratio', 'Admission PT', 'Admission INR', 'Admission PTT', 'Admission Troponin I', 'Admission NIHSS', 'Admission LAMS', 'Occlusion Laterality', 'Occlusion Site', 'Occlusion Proximity', 'Superior vs Inferior', 'Occlusion Segment', 'Baseline NCCT ASPECTS', 'Hyperdense MCA', 'Mechanical Thrombectomy', 'Number of Passes', 'mTICI Score', 'Door to CT (minutes)', 'Door to Needle (minutes)', 'Door to Groin Puncture (minutes)', 'Groin puncture to recanalization (minutes)', 'Hemorrhagic Transformation', 'Type of HT', 'Discharge Sodium', 'Discharge Potassium', 'Discharge Glucose ', 'Discharge Calcium', 'Discharge BUN', 'Discharge Creatinine', 'Discharge BUN:Creatinine Ratio', 'Discharge Hematocrit ', 'Discharge Hemoglobin', 'Discharge WBC Count (x 1000)', 'Discharge Platelet Count (x 1000)', 'Discharge Platelets:WBC Ratio', 'Discharge PT', 'Discharge INR', 'Discharge PTT', 'Discharge Troponin', 'Discharge BMI', 'Discharge SBP', 'Discharge DBP', 'Discharge HR', 'Discharge RR', 'Discharge SpO2', '90-day Modified Rankin Score']\n"
      ]
    },
    {
      "cell_type": "code",
      "execution_count": null,
      "id": "fjrDdSyLEiv5",
      "metadata": {
        "id": "fjrDdSyLEiv5"
      },
      "outputs": [],
      "source": [
        "#Remove unwanted columns and check data shape.\n",
        "\n",
        "data = data[variables]\n",
        "\n",
        "data.shape"
      ]
    },
    {
      "cell_type": "code",
      "execution_count": null,
      "id": "0nO8VMjyZCJp",
      "metadata": {
        "id": "0nO8VMjyZCJp"
      },
      "outputs": [],
      "source": [
        "#Check data for 'mTICI Score'.\n",
        "\n",
        "data['mTICI Score'].value_counts(dropna=False)"
      ]
    },
    {
      "cell_type": "code",
      "execution_count": null,
      "id": "NLHOGN7G4Di5",
      "metadata": {
        "id": "NLHOGN7G4Di5"
      },
      "outputs": [],
      "source": [
        "#Cast 'mTICI Score' class as ordered categorical.\n",
        "\n",
        "cat_type = CategoricalDtype(categories=['MT not attempted', '0','1','2a','2b','2c','3'], ordered=True)\n",
        "data['mTICI Score'].astype(cat_type)"
      ]
    },
    {
      "cell_type": "code",
      "execution_count": null,
      "id": "3eyeObnuZgZd",
      "metadata": {
        "id": "3eyeObnuZgZd"
      },
      "outputs": [],
      "source": [
        "#Check data for 'Number of Passes'.\n",
        "\n",
        "data['Number of Passes'].value_counts(dropna=False)"
      ]
    },
    {
      "cell_type": "code",
      "execution_count": null,
      "id": "FarY4z6QcG0o",
      "metadata": {
        "id": "FarY4z6QcG0o"
      },
      "outputs": [],
      "source": [
        "#Cast Number of Passes as ordered categorical.\n",
        "\n",
        "cat_type = CategoricalDtype(categories=['MT not attempted','0','1','2','3','4','5'], ordered=True)\n",
        "data['Number of Passes'].astype(cat_type)"
      ]
    },
    {
      "cell_type": "code",
      "execution_count": null,
      "id": "dqwlHHIg4Di_",
      "metadata": {
        "id": "dqwlHHIg4Di_"
      },
      "outputs": [],
      "source": [
        "#Check data for '90-day Modified Rankin Score'.\n",
        "\n",
        "data['90-day Modified Rankin Score'].value_counts(dropna=False)"
      ]
    },
    {
      "cell_type": "code",
      "execution_count": null,
      "id": "xrIe41gV4DjA",
      "metadata": {
        "id": "xrIe41gV4DjA"
      },
      "outputs": [],
      "source": [
        "#Drop patients with unknown '90-day Modified Rankin Score'.\n",
        "\n",
        "data = data[data['90-day Modified Rankin Score'].notna()]"
      ]
    },
    {
      "cell_type": "code",
      "execution_count": null,
      "id": "dXp4jsENIlNs",
      "metadata": {
        "id": "dXp4jsENIlNs"
      },
      "outputs": [],
      "source": [
        "#Show NIHSS_SHIFT after dropping patients with unknown '90-day Modified Rankin Score'.\n",
        "\n",
        "data['90-day Modified Rankin Score'].value_counts(dropna=False)"
      ]
    },
    {
      "cell_type": "code",
      "execution_count": null,
      "id": "7VzOm8TY4DjE",
      "metadata": {
        "id": "7VzOm8TY4DjE"
      },
      "outputs": [],
      "source": [
        "#Convert '90-day Modified Rankin Score' into categorical data in a column named 'mRS Category'.\n",
        "\n",
        "data.loc[data['90-day Modified Rankin Score'] <= 2, 'mRS Category'] = 'Low'\n",
        "data.loc[data['90-day Modified Rankin Score'] > 2, 'mRS Category'] = 'High'"
      ]
    },
    {
      "cell_type": "code",
      "execution_count": null,
      "id": "0x4wbcY7apaM",
      "metadata": {
        "id": "0x4wbcY7apaM"
      },
      "outputs": [],
      "source": [
        "#Show 'mRS Category' as categorical.\n",
        "\n",
        "data['mRS Category'].value_counts(dropna=False)"
      ]
    },
    {
      "cell_type": "code",
      "execution_count": null,
      "id": "1vrn94qE4DjF",
      "metadata": {
        "id": "1vrn94qE4DjF"
      },
      "outputs": [],
      "source": [
        "#Check data shape.\n",
        "\n",
        "data.shape"
      ]
    },
    {
      "cell_type": "code",
      "execution_count": null,
      "id": "PH8yBgZS4DjF",
      "metadata": {
        "id": "PH8yBgZS4DjF"
      },
      "outputs": [],
      "source": [
        "#Save data.\n",
        "\n",
        "data.to_csv('./DMVO-mRS/dmvo_clean.csv')"
      ]
    },
    {
      "cell_type": "code",
      "execution_count": null,
      "id": "hrJoOHvi4DjG",
      "metadata": {
        "id": "hrJoOHvi4DjG"
      },
      "outputs": [],
      "source": [
        "#Drop unwanted columns.\n",
        "\n",
        "drop = ['90-day Modified Rankin Score']\n",
        "data.drop(drop, axis=1, inplace=True)"
      ]
    },
    {
      "cell_type": "code",
      "execution_count": null,
      "id": "5pTe9JwP4DjG",
      "metadata": {
        "id": "5pTe9JwP4DjG"
      },
      "outputs": [],
      "source": [
        "#Check data shape.\n",
        "\n",
        "data.shape"
      ]
    },
    {
      "cell_type": "code",
      "execution_count": null,
      "id": "FRb-iXv0Mu58",
      "metadata": {
        "id": "FRb-iXv0Mu58"
      },
      "outputs": [],
      "source": [
        "#See all columns with data types.\n",
        "\n",
        "data_types = data.dtypes\n",
        "\n",
        "data_types = pd.DataFrame(data_types)\n",
        "\n",
        "print(data_types)"
      ]
    },
    {
      "cell_type": "code",
      "execution_count": null,
      "id": "4YKx5SQgJdpv",
      "metadata": {
        "id": "4YKx5SQgJdpv"
      },
      "outputs": [],
      "source": [
        "#See categorical and continuous variables.\n",
        "\n",
        "print('Numerical columns: {}'.format(list(data.select_dtypes('number').columns)))\n",
        "print()\n",
        "print('Categorical columns: {}'.format(list(data.select_dtypes('object').columns)))"
      ]
    },
    {
      "cell_type": "code",
      "execution_count": null,
      "id": "kukxeYGVHjO_",
      "metadata": {
        "id": "kukxeYGVHjO_"
      },
      "outputs": [],
      "source": [
        "#Define numerical and categorical columns.\n",
        "\n",
        "num_cols = ['Age', 'Age related Admission SI', 'Admission SI ', 'Admission BMI', 'Admission SBP', 'Admission DBP', 'Admission HR', 'Admission RR', 'Admission SpO2', 'Admission Sodium', 'Admission Potassium', 'Admission Glucose ', 'Admission Calcium', 'Admission BUN', 'Admission Creatinine', 'Admission BUN:Creatinine Ratio', 'Admission Hematocrit ', 'Admission Hemoglobin', 'Admission WBC Count', 'Admission Platelet Count', 'Admission Platelet:WBC Ratio', 'Admission PT', 'Admission INR', 'Admission PTT', 'Admission Troponin I', 'Admission NIHSS', 'Admission LAMS', 'Door to CT (minutes)', 'Door to Needle (minutes)', 'Door to Groin Puncture (minutes)', 'Groin puncture to recanalization (minutes)', 'Baseline NCCT ASPECTS', 'Discharge BUN:Creatinine Ratio', 'Discharge Sodium', 'Discharge Potassium', 'Discharge Glucose ', 'Discharge Calcium', 'Discharge BUN', 'Discharge Creatinine', 'Discharge Hematocrit ', 'Discharge Hemoglobin', 'Discharge WBC Count (x 1000)', 'Discharge Platelet Count (x 1000)', 'Discharge Platelets:WBC Ratio', 'Discharge PT', 'Discharge INR', 'Discharge PTT', 'Discharge Troponin', 'Discharge BMI', 'Discharge SBP', 'Discharge DBP', 'Discharge HR', 'Discharge RR', 'Discharge SpO2']\n",
        "\n",
        "cat_cols = ['Sex', 'Race', 'Smoking', 'Alcohol', 'Hypertension ', 'Dyslipidemia', 'Diabetes', 'Coronary Artery Disease', 'A-Fib', 'History of Malignancy', 'Antiplatelet or Anticoagulation', 'Prior stroke/TIA ', 'HIV', 'HCV', 'Chronic Kidney disease', 'Sleep apnea', 'PVD', 'DVT/PE', 'Occlusion Laterality', 'Occlusion Site', 'Occlusion Proximity', 'Superior vs Inferior', 'Occlusion Segment', 'Hyperdense MCA', 'Mechanical Thrombectomy', 'Number of Passes', 'mTICI Score', 'Hemorrhagic Transformation', 'Type of HT', 'mRS Category']"
      ]
    },
    {
      "cell_type": "code",
      "execution_count": null,
      "id": "dtGhyfSf4DjH",
      "metadata": {
        "id": "dtGhyfSf4DjH"
      },
      "outputs": [],
      "source": [
        "#Check missing values for numerical columns.\n",
        "\n",
        "data[num_cols].isnull().mean().round(4).mul(100).sort_values(ascending=False)"
      ]
    },
    {
      "cell_type": "code",
      "execution_count": null,
      "id": "JKPNfFvQJxRs",
      "metadata": {
        "id": "JKPNfFvQJxRs"
      },
      "outputs": [],
      "source": [
        "#Define missing values for numerical columns.\n",
        "\n",
        "missing_num = data[num_cols].isnull().mean().round(4).mul(100).sort_values(ascending=False)\n",
        "\n",
        "missing_num = pd.DataFrame(missing_num)\n",
        "\n",
        "missing_num.columns = ['Value']\n",
        "\n",
        "missing_num = missing_num[missing_num['Value'] > 0]\n",
        "\n",
        "print(missing_num.index)\n",
        "\n",
        "missing_num = missing_num[missing_num['Value'] > 51]\n",
        "\n",
        "missing_num = list(missing_num.index)\n",
        "\n",
        "print(missing_num)"
      ]
    },
    {
      "cell_type": "code",
      "execution_count": null,
      "id": "ZeuVKwik4DjH",
      "metadata": {
        "id": "ZeuVKwik4DjH"
      },
      "outputs": [],
      "source": [
        "#Drop numerical columns with missing values over 25%.\n",
        "\n",
        "data.drop(missing_num, axis=1, inplace=True)"
      ]
    },
    {
      "cell_type": "code",
      "execution_count": null,
      "id": "z629cXfYIqc_",
      "metadata": {
        "id": "z629cXfYIqc_"
      },
      "outputs": [],
      "source": [
        "#Define new numerical columns.\n",
        "\n",
        "num_cols = [x for x in num_cols if x not in missing_num]\n",
        "print(num_cols)"
      ]
    },
    {
      "cell_type": "code",
      "execution_count": null,
      "id": "Cs61Y4eyKdA-",
      "metadata": {
        "id": "Cs61Y4eyKdA-"
      },
      "outputs": [],
      "source": [
        "#Impute missing numerical values.\n",
        "\n",
        "num_imputer = KNNImputer(n_neighbors=5, weights='uniform', metric='nan_euclidean')\n",
        "data[num_cols] = num_imputer.fit_transform(data[num_cols])"
      ]
    },
    {
      "cell_type": "code",
      "execution_count": null,
      "id": "lE-877qW4DjI",
      "metadata": {
        "id": "lE-877qW4DjI"
      },
      "outputs": [],
      "source": [
        "#Check missing values after imputation.\n",
        "\n",
        "data[num_cols].isnull().mean().round(4).mul(100).sort_values(ascending=False)"
      ]
    },
    {
      "cell_type": "code",
      "execution_count": null,
      "id": "ii_RYCrFKkkY",
      "metadata": {
        "id": "ii_RYCrFKkkY"
      },
      "outputs": [],
      "source": [
        "#Check missing values for categorical columns.\n",
        "\n",
        "data[cat_cols].isnull().mean().round(4).mul(100).sort_values(ascending=False)"
      ]
    },
    {
      "cell_type": "code",
      "execution_count": null,
      "id": "IYBCs1FgKDe3",
      "metadata": {
        "id": "IYBCs1FgKDe3"
      },
      "outputs": [],
      "source": [
        "#Define missing values for categorical columns.\n",
        "\n",
        "missing_cat = data[cat_cols].isnull().mean().round(4).mul(100).sort_values(ascending=False)\n",
        "\n",
        "missing_cat = pd.DataFrame(missing_cat)\n",
        "\n",
        "missing_cat.columns = ['Value']\n",
        "\n",
        "missing_cat = missing_cat[missing_cat['Value'] > 0]\n",
        "\n",
        "print(missing_cat.index)\n",
        "\n",
        "missing_cat = missing_cat[missing_cat['Value'] > 25]\n",
        "\n",
        "missing_cat = list(missing_cat.index)\n",
        "\n",
        "print(missing_cat)"
      ]
    },
    {
      "cell_type": "code",
      "execution_count": null,
      "id": "GCkfjhql4DjK",
      "metadata": {
        "id": "GCkfjhql4DjK"
      },
      "outputs": [],
      "source": [
        "#Drop categorical columns with missing values over 25%.\n",
        "\n",
        "data.drop(missing_cat, axis=1, inplace=True)"
      ]
    },
    {
      "cell_type": "code",
      "execution_count": null,
      "id": "-KXiKPC3KvCT",
      "metadata": {
        "id": "-KXiKPC3KvCT"
      },
      "outputs": [],
      "source": [
        "#Define new categorical columns.\n",
        "\n",
        "cat_cols = [x for x in cat_cols if x not in missing_cat]\n",
        "print(cat_cols)"
      ]
    },
    {
      "cell_type": "code",
      "execution_count": null,
      "id": "t1ORs3LL4DjL",
      "metadata": {
        "id": "t1ORs3LL4DjL"
      },
      "outputs": [],
      "source": [
        "#Replace missing categorical values with 'Unknown'.\n",
        "\n",
        "for col in cat_cols:\n",
        "    data[col].fillna(value='Unknown', inplace=True)"
      ]
    },
    {
      "cell_type": "code",
      "execution_count": null,
      "id": "C4m7BiM0fZh0",
      "metadata": {
        "id": "C4m7BiM0fZh0"
      },
      "outputs": [],
      "source": [
        "#Check missing values after imputation.\n",
        "\n",
        "data[cat_cols].isnull().mean().round(4).mul(100).sort_values(ascending=False)"
      ]
    },
    {
      "cell_type": "code",
      "execution_count": null,
      "id": "-l8IzuVw4DjI",
      "metadata": {
        "id": "-l8IzuVw4DjI"
      },
      "outputs": [],
      "source": [
        "#Save imputed data.\n",
        "\n",
        "data.to_csv('./DMVO-mRS/dmvo_imputed.csv')"
      ]
    },
    {
      "cell_type": "code",
      "execution_count": null,
      "id": "-orSsrNG4DjJ",
      "metadata": {
        "id": "-orSsrNG4DjJ"
      },
      "outputs": [],
      "source": [
        "#RobustScale data.\n",
        "\n",
        "data[num_cols] = RobustScaler().fit_transform(data[num_cols])"
      ]
    },
    {
      "cell_type": "code",
      "execution_count": null,
      "id": "4O-OzX8O4DjJ",
      "metadata": {
        "id": "4O-OzX8O4DjJ"
      },
      "outputs": [],
      "source": [
        "#Normalize data.\n",
        "\n",
        "data[num_cols] = MinMaxScaler().fit_transform(data[num_cols])"
      ]
    },
    {
      "cell_type": "code",
      "execution_count": null,
      "id": "K7MWuQkY4DjL",
      "metadata": {
        "id": "K7MWuQkY4DjL"
      },
      "outputs": [],
      "source": [
        "#One hot encoding for categorical values.\n",
        "\n",
        "data_final = pd.get_dummies(data, columns = cat_cols, drop_first = True)"
      ]
    },
    {
      "cell_type": "code",
      "execution_count": null,
      "id": "FAhBY5_N4DjL",
      "metadata": {
        "id": "FAhBY5_N4DjL"
      },
      "outputs": [],
      "source": [
        "#Save final data.\n",
        "\n",
        "data_final.to_csv('./DMVO-mRS/dmvo_final.csv')"
      ]
    }
  ],
  "metadata": {
    "colab": {
      "provenance": [],
      "include_colab_link": true
    },
    "kernelspec": {
      "display_name": "Python 3 (ipykernel)",
      "language": "python",
      "name": "python3"
    },
    "language_info": {
      "codemirror_mode": {
        "name": "ipython",
        "version": 3
      },
      "file_extension": ".py",
      "mimetype": "text/x-python",
      "name": "python",
      "nbconvert_exporter": "python",
      "pygments_lexer": "ipython3",
      "version": "3.9.6"
    }
  },
  "nbformat": 4,
  "nbformat_minor": 5
}